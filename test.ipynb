{
 "cells": [
  {
   "cell_type": "code",
   "execution_count": 1,
   "id": "2e7d9206-e489-46ce-a60b-c97e4496b96d",
   "metadata": {},
   "outputs": [
    {
     "data": {
      "text/plain": [
       "AnnData object with n_obs × n_vars = 1406788 × 34890\n",
       "    obs: 'SubID', 'Channel', 'Brain_bank', 'round_num', 'poolID', 'Sex', 'Age', 'Dx_AD', 'Ethnicity', 'pH', 'PMI', 'class', 'subclass', 'subtype'\n",
       "    obsm: 'X_pca', 'X_pca_regressed_harmony', 'X_umap'"
      ]
     },
     "execution_count": 1,
     "metadata": {},
     "output_type": "execute_result"
    }
   ],
   "source": [
    "import scanpy as sc\n",
    "dt = sc.read_h5ad(\"/Users/kostisfortounas/Downloads/PsychAD_r0_Dec_28_2022.h5ad\")\n",
    "dt"
   ]
  },
  {
   "cell_type": "code",
   "execution_count": 3,
   "id": "9fb87cfb-552b-45fc-b482-d0ec8f49155e",
   "metadata": {},
   "outputs": [],
   "source": [
    "import scanpy as sc\n",
    "import anndata as ad\n",
    "import numpy as np\n",
    "\n",
    "def random_reduce_h5ad(input_file, output_file, max_obs, max_vars):\n",
    "  \"\"\"\n",
    "  Randomly reduces an H5ad matrix to specified number of observations and variables.\n",
    "\n",
    "  Args:\n",
    "    input_file: Path to the input H5ad file.\n",
    "    output_file: Path to the output H5ad file.\n",
    "    max_obs: Maximum number of observations.\n",
    "    max_vars: Maximum number of variables.\n",
    "  \"\"\"\n",
    "\n",
    "  adata = ad.read_h5ad(input_file)\n",
    "\n",
    "  # Randomly select observations\n",
    "  obs_idx = np.random.choice(adata.shape[0], max_obs, replace=False)\n",
    "  adata = adata[obs_idx]\n",
    "\n",
    "  # Randomly select variables\n",
    "  var_idx = np.random.choice(adata.shape[1], max_vars, replace=False)\n",
    "  adata = adata[:, var_idx]\n",
    "\n",
    "  adata.write(output_file)\n",
    "\n",
    "# Example usage:\n",
    "input_file = \"/Users/kostisfortounas/Downloads/PsychAD_r0_Dec_28_2022.h5ad\"\n",
    "output_file = \"reduced_data.h5ad\"\n",
    "max_obs = 5000\n",
    "max_vars = 34890\n",
    "\n",
    "random_reduce_h5ad(input_file, output_file, max_obs, max_vars)"
   ]
  },
  {
   "cell_type": "code",
   "execution_count": 4,
   "id": "8e5b1a2e-868e-4173-91f6-242f84c7d6c7",
   "metadata": {},
   "outputs": [
    {
     "data": {
      "text/plain": [
       "AnnData object with n_obs × n_vars = 5000 × 34890\n",
       "    obs: 'SubID', 'Channel', 'Brain_bank', 'round_num', 'poolID', 'Sex', 'Age', 'Dx_AD', 'Ethnicity', 'pH', 'PMI', 'class', 'subclass', 'subtype'\n",
       "    obsm: 'X_pca', 'X_pca_regressed_harmony', 'X_umap'"
      ]
     },
     "execution_count": 4,
     "metadata": {},
     "output_type": "execute_result"
    }
   ],
   "source": [
    "random_reduce_h5ad = sc.read_h5ad(\"reduced_data.h5ad\")\n",
    "random_reduce_h5ad"
   ]
  },
  {
   "cell_type": "code",
   "execution_count": null,
   "id": "6975c9c0-6904-4222-884d-9ecc5a4cb4e8",
   "metadata": {},
   "outputs": [],
   "source": [
    "import anndata as ad\n",
    "\n",
    "def remove_subset_elements(original_adata, subset_adata):\n",
    "    \"\"\"\n",
    "    Removes observations and columns from the original AnnData object that are present in the subset.\n",
    "\n",
    "    Args:\n",
    "        original_adata: The original AnnData object.\n",
    "        subset_adata: The AnnData object representing the subset.\n",
    "\n",
    "    Returns:\n",
    "        The modified original AnnData object.\n",
    "    \"\"\"\n",
    "\n",
    "    # Get the indices of observations and columns in the original dataset that are in the subset\n",
    "    obs_idx = original_adata.obs_names.isin(subset_adata.obs_names)\n",
    "    \n",
    "    # Remove the corresponding observations and columns\n",
    "    original_adata = original_adata[~obs_idx]\n",
    "\n",
    "    return original_adata\n",
    "\n",
    "# Example usage:\n",
    "original_data = ad.read_h5ad(\"/Users/kostisfortounas/Downloads/PsychAD_r0_Dec_28_2022.h5ad\")\n",
    "subset_data = ad.read_h5ad(\"reduced_data.h5ad\")\n",
    "\n",
    "modified_original_data = remove_subset_elements(original_data, subset_data)\n",
    "modified_original_data.write(\"Original1\")"
   ]
  },
  {
   "cell_type": "code",
   "execution_count": 1,
   "id": "aa72b1e1-3ced-45f6-8e27-3fab7613a6a2",
   "metadata": {},
   "outputs": [],
   "source": [
    "import scanpy as sc\n",
    "import anndata as ad\n",
    "import numpy as np\n",
    "\n",
    "def create_and_save_subsets_unique_obs(input_file, output_prefix, num_subsets, subset_size, max_vars):\n",
    "    \"\"\"\n",
    "    Creates and saves multiple subsets with unique observations from an H5ad dataset.\n",
    "\n",
    "    Args:\n",
    "        input_file: Path to the input H5ad file.\n",
    "        output_prefix: Prefix for the output H5ad files.\n",
    "        num_subsets: Number of subsets to create.\n",
    "        subset_size: Number of observations per subset.\n",
    "        max_vars: Maximum number of variables (if you want to limit).\n",
    "\n",
    "    Returns:\n",
    "        None\n",
    "    \"\"\"\n",
    "\n",
    "    adata = ad.read_h5ad(input_file)\n",
    "\n",
    "    # Ensure max_vars is not greater than the actual number of variables\n",
    "    max_vars = min(max_vars, adata.shape[1])\n",
    "\n",
    "    remaining_obs = set(adata.obs_names)\n",
    "\n",
    "    for i in range(num_subsets):\n",
    "        if len(remaining_obs) < subset_size:\n",
    "            raise ValueError(\"Not enough remaining observations for subset creation.\")\n",
    "\n",
    "        # Randomly select subset_size observations from the remaining pool\n",
    "        obs_idx = np.random.choice(list(remaining_obs), subset_size, replace=False)\n",
    "\n",
    "        # Create subset\n",
    "        subset_adata = adata[obs_idx, :max_vars]\n",
    "\n",
    "        # Remove selected observations from the remaining pool\n",
    "        remaining_obs -= set(subset_adata.obs_names)\n",
    "\n",
    "        # Save subset to file\n",
    "        output_file = f\"{output_prefix}_subset_{i}.h5ad\"\n",
    "        subset_adata.write(output_file)\n",
    "\n",
    "# Example usage:\n",
    "input_file = \"/Users/kostisfortounas/Downloads/PsychAD_r0_Dec_28_2022.h5ad\"\n",
    "output_prefix = \"subset\"\n",
    "num_subsets = 10\n",
    "subset_size = 45000\n",
    "max_vars = 34890\n",
    "\n",
    "create_and_save_subsets_unique_obs(input_file, output_prefix, num_subsets, subset_size, max_vars)"
   ]
  },
  {
   "cell_type": "code",
   "execution_count": null,
   "id": "e55b937c-8e97-44b4-aaa8-607f07fbe96f",
   "metadata": {},
   "outputs": [],
   "source": []
  },
  {
   "cell_type": "code",
   "execution_count": null,
   "id": "ad55bc5b-2faa-48ed-8fce-c8be416a8dfa",
   "metadata": {},
   "outputs": [],
   "source": []
  },
  {
   "cell_type": "code",
   "execution_count": 4,
   "id": "840d7a28-976d-4b60-9737-29a81fb1690f",
   "metadata": {},
   "outputs": [
    {
     "data": {
      "text/plain": [
       "AnnData object with n_obs × n_vars = 45000 × 34890\n",
       "    obs: 'SubID', 'Channel', 'Brain_bank', 'round_num', 'poolID', 'Sex', 'Age', 'Dx_AD', 'Ethnicity', 'pH', 'PMI', 'class', 'subclass', 'subtype'\n",
       "    obsm: 'X_pca', 'X_pca_regressed_harmony', 'X_umap'"
      ]
     },
     "execution_count": 4,
     "metadata": {},
     "output_type": "execute_result"
    }
   ],
   "source": [
    "\n",
    "\n"
   ]
  },
  {
   "cell_type": "code",
   "execution_count": null,
   "id": "d58025c6-b40b-4bee-a8dc-89682e29243a",
   "metadata": {},
   "outputs": [],
   "source": []
  }
 ],
 "metadata": {
  "kernelspec": {
   "display_name": "Python 3 (ipykernel)",
   "language": "python",
   "name": "python3"
  },
  "language_info": {
   "codemirror_mode": {
    "name": "ipython",
    "version": 3
   },
   "file_extension": ".py",
   "mimetype": "text/x-python",
   "name": "python",
   "nbconvert_exporter": "python",
   "pygments_lexer": "ipython3",
   "version": "3.9.6"
  }
 },
 "nbformat": 4,
 "nbformat_minor": 5
}
